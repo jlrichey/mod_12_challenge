


# Import the modules
import numpy as np
import pandas as pd
from pathlib import Path
from sklearn.metrics import balanced_accuracy_score
from sklearn.metrics import confusion_matrix
from imblearn.metrics import classification_report_imbalanced

import warnings
warnings.filterwarnings('ignore')











# Read the CSV file from the Resources folder into a Pandas DataFrame
df = pd.read_csv('Resources/lending_data.csv')

# Review the DataFrame
df





# Separate the data into labels and features

# Separate the y variable, the labels
y = df['loan_status']

# Separate the X variable, the features
X = df.drop(columns=['loan_status'])


# Review the y variable Series
y


# Review the X variable DataFrame
X





# Check the balance of our target values
y.value_counts()





# Import the train_test_learn module
from sklearn.model_selection import train_test_split

# Split the data using train_test_split
# Assign a random_state of 1 to the function
X_train, X_test, y_train, y_test = train_test_split(X, y, random_state=1)











# Import the LogisticRegression module from SKLearn
from sklearn.linear_model import LogisticRegression

# Instantiate the Logistic Regression model
# Assign a random_state parameter of 1 to the model
logistic_regression_model = LogisticRegression(random_state=1)

# Fit the model using training data
lr_model = logistic_regression_model.fit(X_train, y_train)





# Make a prediction using the testing data
predictions = lr_model.predict(X_test)





# Print the balanced_accuracy score of the model
baso = balanced_accuracy_score(y_test, predictions)
print(baso)


# Generate a confusion matrix for the model
confusion_matrix(y_test, predictions)


# Print the classification report for the model
target_names = ['healthy loan', 'high-risk loan']
print(classification_report_imbalanced(y_test, predictions, target_names=target_names))

















# Import the RandomOverSampler module form imbalanced-learn
from imblearn.over_sampling import RandomOverSampler

# Instantiate the random oversampler model
# # Assign a random_state parameter of 1 to the model
ros = RandomOverSampler(random_state=1)

# Fit the original training data to the random_oversampler model
X_oversampled, y_oversampled = ros.fit_resample(X_train, y_train)


# Count the distinct values of the resampled labels data
y_oversampled.value_counts()





# Instantiate the Logistic Regression model
# Assign a random_state parameter of 1 to the model
logistic_regression_model = LogisticRegression(random_state=1)

# Fit the model using the resampled training data
lr_model_resampled = logistic_regression_model.fit(X_oversampled, y_oversampled)

# Make a prediction using the testing data
predictions_resampled = lr_model_resampled.predict(X_test)





# Print the balanced_accuracy score of the model 
baso1 = balanced_accuracy_score(y_oversampled, predictions_resampled)
print(baso1)


# Generate a confusion matrix for the model
# YOUR CODE HERE!


# Print the classification report for the model
# YOUR CODE HERE!






